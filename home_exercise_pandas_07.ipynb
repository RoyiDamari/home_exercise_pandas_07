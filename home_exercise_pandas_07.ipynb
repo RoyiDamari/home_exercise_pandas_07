{
 "cells": [
  {
   "cell_type": "code",
   "execution_count": 3,
   "id": "e4130ca9-83c9-4327-8695-9b9f55df82d3",
   "metadata": {},
   "outputs": [],
   "source": [
    "import numpy as np\n",
    "import pandas as pd"
   ]
  },
  {
   "cell_type": "code",
   "execution_count": 5,
   "id": "f597e500-9e6c-43e4-899a-ae496afea2e4",
   "metadata": {},
   "outputs": [
    {
     "name": "stdout",
     "output_type": "stream",
     "text": [
      "   CustomerID FirstName  LastName  Age  TotalPurchaseAmount\n",
      "0           1      John     Smith   45                  403\n",
      "1           2     Steve   Johnson   28                  496\n",
      "2           3      Anna  Williams   53                  234\n",
      "3           4      Mike     Jones   44                  203\n",
      "4           5     Emily     Brown   58                  399\n",
      "5           6      Jake     Davis   59                  251\n",
      "6           7     Laura    Miller   41                  763\n",
      "7           8      Nick    Wilson   48                  965\n",
      "8           9    Olivia     Moore   40                  133\n",
      "9          10     David    Taylor   61                  308\n"
     ]
    }
   ],
   "source": [
    "# Exercise 1\n",
    "# 1\n",
    "\n",
    "df = pd.DataFrame({\n",
    "'CustomerID': np.arange(1, 11),\n",
    "'FirstName': ['John', 'Steve', 'Anna', 'Mike', 'Emily', 'Jake', 'Laura', 'Nick', 'Olivia',\n",
    "'David'],\n",
    "'LastName': ['Smith', 'Johnson', 'Williams', 'Jones', 'Brown', 'Davis', 'Miller',\n",
    "'Wilson', 'Moore', 'Taylor'],\n",
    "'Age': np.random.randint(25, 65, size=10),\n",
    "'TotalPurchaseAmount': np.random.randint(100, 1000, size=10)\n",
    "})\n",
    "print(df)"
   ]
  },
  {
   "cell_type": "code",
   "execution_count": 7,
   "id": "defdd2bf-6c48-4907-83b2-35b0b2cdaa1c",
   "metadata": {},
   "outputs": [
    {
     "name": "stdout",
     "output_type": "stream",
     "text": [
      "   CustomerID FirstName  LastName  Age  TotalPurchaseAmount classification\n",
      "0           1      John     Smith   45                  403            Low\n",
      "1           2     Steve   Johnson   28                  496            Low\n",
      "2           3      Anna  Williams   53                  234            Low\n",
      "3           4      Mike     Jones   44                  203            Low\n",
      "4           5     Emily     Brown   58                  399            Low\n",
      "5           6      Jake     Davis   59                  251            Low\n",
      "6           7     Laura    Miller   41                  763           High\n",
      "7           8      Nick    Wilson   48                  965           High\n",
      "8           9    Olivia     Moore   40                  133            Low\n",
      "9          10     David    Taylor   61                  308            Low\n"
     ]
    }
   ],
   "source": [
    "# 2\n",
    "df['classification'] = df['TotalPurchaseAmount'].apply(lambda g: \"Low\" if g < 500 else \"High\")\n",
    "print(df)"
   ]
  },
  {
   "cell_type": "code",
   "execution_count": 9,
   "id": "efa494e8-0743-40e5-89ac-385222002f73",
   "metadata": {},
   "outputs": [
    {
     "name": "stdout",
     "output_type": "stream",
     "text": [
      "   CustomerID FirstName  LastName  Age  TotalPurchaseAmount classification  \\\n",
      "0           1      John     Smith   45                  403            Low   \n",
      "1           2     Steve   Johnson   28                  496            Low   \n",
      "2           3      Anna  Williams   53                  234            Low   \n",
      "3           4      Mike     Jones   44                  203            Low   \n",
      "4           5     Emily     Brown   58                  399            Low   \n",
      "5           6      Jake     Davis   59                  251            Low   \n",
      "6           7     Laura    Miller   41                  763           High   \n",
      "7           8      Nick    Wilson   48                  965           High   \n",
      "8           9    Olivia     Moore   40                  133            Low   \n",
      "9          10     David    Taylor   61                  308            Low   \n",
      "\n",
      "  classification_by_age  \n",
      "0               Low_Old  \n",
      "1               Low_Old  \n",
      "2               Low_Old  \n",
      "3               Low_Old  \n",
      "4               Low_Old  \n",
      "5               Low_Old  \n",
      "6              High_Old  \n",
      "7              High_Old  \n",
      "8               Low_Old  \n",
      "9               Low_Old  \n"
     ]
    }
   ],
   "source": [
    "# 3\n",
    "def is_gen(classification, Age):\n",
    "    if classification == 'Low':\n",
    "        if Age < 20:\n",
    "            classification_by_age = 'Low_Young'\n",
    "        else:\n",
    "            classification_by_age = 'Low_Old'\n",
    "    if classification == 'High':\n",
    "        if Age < 20:\n",
    "            classification_by_age = 'High_Young'\n",
    "        else:\n",
    "            classification_by_age = 'High_Old'\n",
    "               \n",
    "    return classification_by_age\n",
    "    \n",
    "df['classification_by_age'] = np.vectorize(is_gen)(df['classification'], df['Age'])\n",
    "print(df)"
   ]
  },
  {
   "cell_type": "code",
   "execution_count": 11,
   "id": "b345e20b-9f6b-4b73-a2e6-6e8ffe6c5f0e",
   "metadata": {},
   "outputs": [
    {
     "name": "stdout",
     "output_type": "stream",
     "text": [
      "   CustomerID FirstName  LastName  Age  TotalPurchaseAmount classification  \\\n",
      "2           3      Anna  Williams   53                  234            Low   \n",
      "9          10     David    Taylor   61                  308            Low   \n",
      "4           5     Emily     Brown   58                  399            Low   \n",
      "5           6      Jake     Davis   59                  251            Low   \n",
      "0           1      John     Smith   45                  403            Low   \n",
      "6           7     Laura    Miller   41                  763           High   \n",
      "3           4      Mike     Jones   44                  203            Low   \n",
      "7           8      Nick    Wilson   48                  965           High   \n",
      "8           9    Olivia     Moore   40                  133            Low   \n",
      "1           2     Steve   Johnson   28                  496            Low   \n",
      "\n",
      "  classification_by_age  \n",
      "2               Low_Old  \n",
      "9               Low_Old  \n",
      "4               Low_Old  \n",
      "5               Low_Old  \n",
      "0               Low_Old  \n",
      "6              High_Old  \n",
      "3               Low_Old  \n",
      "7              High_Old  \n",
      "8               Low_Old  \n",
      "1               Low_Old  \n"
     ]
    }
   ],
   "source": [
    "# Exercise 2\n",
    "# 2\n",
    "\n",
    "sort_by_firstName = df.sort_values(['FirstName'])\n",
    "print(sort_by_firstName)"
   ]
  },
  {
   "cell_type": "code",
   "execution_count": 13,
   "id": "a07d3a81-1188-4f3f-bef0-1f2723f2b222",
   "metadata": {},
   "outputs": [
    {
     "name": "stdout",
     "output_type": "stream",
     "text": [
      "   CustomerID FirstName  LastName  Age  TotalPurchaseAmount classification  \\\n",
      "8           9    Olivia     Moore   40                  133            Low   \n",
      "3           4      Mike     Jones   44                  203            Low   \n",
      "2           3      Anna  Williams   53                  234            Low   \n",
      "5           6      Jake     Davis   59                  251            Low   \n",
      "9          10     David    Taylor   61                  308            Low   \n",
      "4           5     Emily     Brown   58                  399            Low   \n",
      "0           1      John     Smith   45                  403            Low   \n",
      "1           2     Steve   Johnson   28                  496            Low   \n",
      "6           7     Laura    Miller   41                  763           High   \n",
      "7           8      Nick    Wilson   48                  965           High   \n",
      "\n",
      "  classification_by_age  \n",
      "8               Low_Old  \n",
      "3               Low_Old  \n",
      "2               Low_Old  \n",
      "5               Low_Old  \n",
      "9               Low_Old  \n",
      "4               Low_Old  \n",
      "0               Low_Old  \n",
      "1               Low_Old  \n",
      "6              High_Old  \n",
      "7              High_Old  \n"
     ]
    }
   ],
   "source": [
    "# 3\n",
    "sort_by_amount_and_age = df.sort_values(['TotalPurchaseAmount', 'Age'], ascending=[True, False])\n",
    "print(sort_by_amount_and_age)\n"
   ]
  },
  {
   "cell_type": "code",
   "execution_count": 47,
   "id": "12491b5e-c83a-4a97-b33b-cf724ec6c8cb",
   "metadata": {},
   "outputs": [
    {
     "name": "stdout",
     "output_type": "stream",
     "text": [
      "       A   B   C     D     E     F     G     H     I     J\n",
      "0    8.0  24  67  87.0  79.0  48.0  10.0  94.0  52.0  98.0\n",
      "1    NaN  66  98   NaN   NaN   NaN   NaN   NaN   NaN  16.0\n",
      "2    9.0  93  86   2.0  27.0   4.0  31.0   1.0  13.0  83.0\n",
      "3    4.0  91  59  67.0   7.0  49.0  47.0  65.0  61.0  14.0\n",
      "4   55.0  71  80   2.0  94.0  19.0  98.0  63.0  53.0  27.0\n",
      "5    NaN  30  48   NaN   NaN   NaN   NaN   NaN   NaN  56.0\n",
      "6    NaN  53  74   NaN   NaN   NaN   NaN   NaN   NaN  68.0\n",
      "7   50.0  91  91  83.0  53.0  78.0   0.0  13.0  57.0  76.0\n",
      "8    3.0  70   3  84.0  79.0  10.0  87.0  60.0   3.0  48.0\n",
      "9   52.0  43  36   5.0  71.0  38.0  86.0  94.0  98.0  42.0\n",
      "10   NaN  95  76   NaN   NaN   NaN   NaN   NaN   NaN  98.0\n",
      "11   NaN  53  68   NaN   NaN   NaN   NaN   NaN   NaN  48.0\n",
      "12   NaN  25  54   NaN   NaN   NaN   NaN   NaN   NaN  30.0\n",
      "13  66.0  24  55  17.0  45.0  89.0  45.0  35.0  16.0  12.0\n",
      "14  86.0  82  67  92.0  95.0  20.0  10.0   8.0  89.0  72.0\n",
      "15  30.0  12  18  93.0  92.0  44.0  57.0   0.0  73.0  54.0\n",
      "16   NaN  66  16   NaN   NaN   NaN   NaN   NaN   NaN  78.0\n",
      "17   NaN  77  84   NaN   NaN   NaN   NaN   NaN   NaN  93.0\n",
      "18   NaN  28  82   NaN   NaN   NaN   NaN   NaN   NaN   NaN\n",
      "19   NaN  90  93   NaN   NaN   NaN   NaN   NaN   NaN  37.0\n"
     ]
    }
   ],
   "source": [
    "# Exercise 3\n",
    "# 1\n",
    "\n",
    "np.random.seed(100)\n",
    "df = pd.DataFrame(np.random.randint(0,100,size=(20, 10)), columns=list('ABCDEFGHIJ'))\n",
    "n_rows, n_cols = df.shape\n",
    "row_idx = np.random.randint(0, n_rows)\n",
    "col_idxs = np.random.choice(n_cols, size=n_cols//2, replace=False)\n",
    "df.iloc[row_idx, col_idxs] = np.nan\n",
    "n_nan_remaining = 15 - len(col_idxs)\n",
    "row_idxs = np.random.randint(0, n_rows, size=n_nan_remaining)\n",
    "col_idxs = np.random.randint(0, n_cols, size=n_nan_remaining)\n",
    "df.iloc[row_idxs, col_idxs] = np.nan\n",
    "print(df)"
   ]
  },
  {
   "cell_type": "code",
   "execution_count": 17,
   "id": "522a78d4-087a-46a2-bf76-347f226af0ca",
   "metadata": {},
   "outputs": [
    {
     "name": "stdout",
     "output_type": "stream",
     "text": [
      "       A   B   C     D     E     F     G     H     I     J\n",
      "0    8.0  24  67  87.0  79.0  48.0  10.0  94.0  52.0  98.0\n",
      "2    9.0  93  86   2.0  27.0   4.0  31.0   1.0  13.0  83.0\n",
      "3    4.0  91  59  67.0   7.0  49.0  47.0  65.0  61.0  14.0\n",
      "4   55.0  71  80   2.0  94.0  19.0  98.0  63.0  53.0  27.0\n",
      "7   50.0  91  91  83.0  53.0  78.0   0.0  13.0  57.0  76.0\n",
      "8    3.0  70   3  84.0  79.0  10.0  87.0  60.0   3.0  48.0\n",
      "9   52.0  43  36   5.0  71.0  38.0  86.0  94.0  98.0  42.0\n",
      "13  66.0  24  55  17.0  45.0  89.0  45.0  35.0  16.0  12.0\n",
      "14  86.0  82  67  92.0  95.0  20.0  10.0   8.0  89.0  72.0\n",
      "15  30.0  12  18  93.0  92.0  44.0  57.0   0.0  73.0  54.0\n"
     ]
    }
   ],
   "source": [
    "# 3\n",
    "df_no_na = df.dropna()\n",
    "print(df_no_na)"
   ]
  },
  {
   "cell_type": "code",
   "execution_count": 19,
   "id": "7e4c5c87-43a2-4f29-8e23-b519ffcb59b6",
   "metadata": {},
   "outputs": [
    {
     "name": "stdout",
     "output_type": "stream",
     "text": [
      "       A   B   C     D     E     F     G     H     I     J\n",
      "0    8.0  24  67  87.0  79.0  48.0  10.0  94.0  52.0  98.0\n",
      "1   80.0  66  98  80.0  80.0  80.0  80.0  80.0  80.0  16.0\n",
      "2    9.0  93  86   2.0  27.0   4.0  31.0   1.0  13.0  83.0\n",
      "3    4.0  91  59  67.0   7.0  49.0  47.0  65.0  61.0  14.0\n",
      "4   55.0  71  80   2.0  94.0  19.0  98.0  63.0  53.0  27.0\n",
      "5   80.0  30  48  80.0  80.0  80.0  80.0  80.0  80.0  56.0\n",
      "6   80.0  53  74  80.0  80.0  80.0  80.0  80.0  80.0  68.0\n",
      "7   50.0  91  91  83.0  53.0  78.0   0.0  13.0  57.0  76.0\n",
      "8    3.0  70   3  84.0  79.0  10.0  87.0  60.0   3.0  48.0\n",
      "9   52.0  43  36   5.0  71.0  38.0  86.0  94.0  98.0  42.0\n",
      "10  80.0  95  76  80.0  80.0  80.0  80.0  80.0  80.0  98.0\n",
      "11  80.0  53  68  80.0  80.0  80.0  80.0  80.0  80.0  48.0\n",
      "12  80.0  25  54  80.0  80.0  80.0  80.0  80.0  80.0  30.0\n",
      "13  66.0  24  55  17.0  45.0  89.0  45.0  35.0  16.0  12.0\n",
      "14  86.0  82  67  92.0  95.0  20.0  10.0   8.0  89.0  72.0\n",
      "15  30.0  12  18  93.0  92.0  44.0  57.0   0.0  73.0  54.0\n",
      "16  80.0  66  16  80.0  80.0  80.0  80.0  80.0  80.0  78.0\n",
      "17  80.0  77  84  80.0  80.0  80.0  80.0  80.0  80.0  93.0\n",
      "18  80.0  28  82  80.0  80.0  80.0  80.0  80.0  80.0  80.0\n",
      "19  80.0  90  93  80.0  80.0  80.0  80.0  80.0  80.0  37.0\n"
     ]
    }
   ],
   "source": [
    "# 4\n",
    "df_fill_na_random = df.fillna(np.random.randint(0, 100))\n",
    "print(df_fill_na_random)"
   ]
  },
  {
   "cell_type": "code",
   "execution_count": 55,
   "id": "501dea18-2120-4643-83ce-1e5f62d0e363",
   "metadata": {},
   "outputs": [
    {
     "name": "stdout",
     "output_type": "stream",
     "text": [
      "       A   B   C     D     E     F     G     H     I     J\n",
      "0    8.0  24  67  87.0  79.0  48.0  10.0  94.0  52.0  98.0\n",
      "1    NaN  66  98  53.2   NaN   NaN   NaN   NaN   NaN  16.0\n",
      "2    9.0  93  86   2.0  27.0   4.0  31.0   1.0  13.0  83.0\n",
      "3    4.0  91  59  67.0   7.0  49.0  47.0  65.0  61.0  14.0\n",
      "4   55.0  71  80   2.0  94.0  19.0  98.0  63.0  53.0  27.0\n",
      "5    NaN  30  48  53.2   NaN   NaN   NaN   NaN   NaN  56.0\n",
      "6    NaN  53  74  53.2   NaN   NaN   NaN   NaN   NaN  68.0\n",
      "7   50.0  91  91  83.0  53.0  78.0   0.0  13.0  57.0  76.0\n",
      "8    3.0  70   3  84.0  79.0  10.0  87.0  60.0   3.0  48.0\n",
      "9   52.0  43  36   5.0  71.0  38.0  86.0  94.0  98.0  42.0\n",
      "10   NaN  95  76  53.2   NaN   NaN   NaN   NaN   NaN  98.0\n",
      "11   NaN  53  68  53.2   NaN   NaN   NaN   NaN   NaN  48.0\n",
      "12   NaN  25  54  53.2   NaN   NaN   NaN   NaN   NaN  30.0\n",
      "13  66.0  24  55  17.0  45.0  89.0  45.0  35.0  16.0  12.0\n",
      "14  86.0  82  67  92.0  95.0  20.0  10.0   8.0  89.0  72.0\n",
      "15  30.0  12  18  93.0  92.0  44.0  57.0   0.0  73.0  54.0\n",
      "16   NaN  66  16  53.2   NaN   NaN   NaN   NaN   NaN  78.0\n",
      "17   NaN  77  84  53.2   NaN   NaN   NaN   NaN   NaN  93.0\n",
      "18   NaN  28  82  53.2   NaN   NaN   NaN   NaN   NaN   NaN\n",
      "19   NaN  90  93  53.2   NaN   NaN   NaN   NaN   NaN  37.0\n"
     ]
    }
   ],
   "source": [
    "# 5\n",
    "df_fill_na_mean =  df.fillna(df[['C', 'D']].mean())\n",
    "print(df_fill_na_mean)"
   ]
  },
  {
   "cell_type": "code",
   "execution_count": 83,
   "id": "8eb9cb56-1f94-4635-812b-f843d27d8a3b",
   "metadata": {},
   "outputs": [
    {
     "name": "stdout",
     "output_type": "stream",
     "text": [
      "     B   C     J     D\n",
      "0   24  67  98.0  87.0\n",
      "1   66  98  16.0   NaN\n",
      "2   93  86  83.0   2.0\n",
      "3   91  59  14.0  67.0\n",
      "4   71  80  27.0   2.0\n",
      "5   30  48  56.0   NaN\n",
      "6   53  74  68.0   NaN\n",
      "7   91  91  76.0  83.0\n",
      "8   70   3  48.0  84.0\n",
      "9   43  36  42.0   5.0\n",
      "10  95  76  98.0   NaN\n",
      "11  53  68  48.0   NaN\n",
      "12  25  54  30.0   NaN\n",
      "13  24  55  12.0  17.0\n",
      "14  82  67  72.0  92.0\n",
      "15  12  18  54.0  93.0\n",
      "16  66  16  78.0   NaN\n",
      "17  77  84  93.0   NaN\n",
      "18  28  82   NaN   NaN\n",
      "19  90  93  37.0   NaN\n"
     ]
    }
   ],
   "source": [
    "# 6\n",
    "columns_to_check = list(filter(lambda x: x!='D', df.columns))\n",
    "df_filtered = df[columns_to_check].dropna(thresh=df.shape[0] - 1, axis=1)\n",
    "df_filtered['D'] = df['D']\n",
    "print(df_filtered)"
   ]
  },
  {
   "cell_type": "code",
   "execution_count": null,
   "id": "e6ee67f6-fd20-4815-b444-8232cf6817f7",
   "metadata": {},
   "outputs": [],
   "source": []
  }
 ],
 "metadata": {
  "kernelspec": {
   "display_name": "Python 3 (ipykernel)",
   "language": "python",
   "name": "python3"
  },
  "language_info": {
   "codemirror_mode": {
    "name": "ipython",
    "version": 3
   },
   "file_extension": ".py",
   "mimetype": "text/x-python",
   "name": "python",
   "nbconvert_exporter": "python",
   "pygments_lexer": "ipython3",
   "version": "3.12.7"
  }
 },
 "nbformat": 4,
 "nbformat_minor": 5
}
